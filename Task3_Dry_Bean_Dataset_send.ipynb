{
 "cells": [
  {
   "cell_type": "markdown",
   "metadata": {},
   "source": [
    "# Importing libraries"
   ]
  },
  {
   "cell_type": "code",
   "execution_count": 41,
   "metadata": {},
   "outputs": [],
   "source": [
    "import pandas as pd\n",
    "import numpy as np\n",
    "import seaborn as sns\n",
    "import matplotlib.pyplot as plt\n",
    "\n",
    "from sklearn.preprocessing import StandardScaler\n",
    "from sklearn.model_selection import train_test_split\n",
    "from sklearn.metrics import confusion_matrix\n",
    "\n",
    "from sklearn.svm import SVC\n",
    "from sklearn.metrics import accuracy_score\n",
    "from sklearn.neighbors import KNeighborsClassifier\n",
    "from sklearn.model_selection import cross_val_score\n",
    "from sklearn import metrics\n",
    "\n",
    "\n",
    "import numpy as np\n",
    "import pandas as pd\n",
    "from scipy.special import comb\n",
    "\n",
    "from sklearn.datasets import load_breast_cancer\n",
    "from sklearn.linear_model import LogisticRegression\n",
    "\n",
    "from sklearn.model_selection import (KFold,RepeatedKFold, LeaveOneOut, StratifiedKFold, train_test_split, cross_validate,LeavePOut)\n"
   ]
  },
  {
   "cell_type": "code",
   "execution_count": 42,
   "metadata": {},
   "outputs": [],
   "source": [
    "#read the data\n",
    "df = pd.read_csv(\"Dry_Bean_Data_Final.csv\")"
   ]
  },
  {
   "cell_type": "markdown",
   "metadata": {},
   "source": [
    "# Checking Missing Values"
   ]
  },
  {
   "cell_type": "code",
   "execution_count": 43,
   "metadata": {},
   "outputs": [
    {
     "name": "stdout",
     "output_type": "stream",
     "text": [
      "<class 'pandas.core.frame.DataFrame'>\n",
      "RangeIndex: 13600 entries, 0 to 13599\n",
      "Data columns (total 17 columns):\n",
      "Area               13600 non-null int64\n",
      "Perimeter          13600 non-null float64\n",
      "MajorAxisLength    13600 non-null float64\n",
      "MinorAxisLength    13600 non-null float64\n",
      "AspectRation       13600 non-null float64\n",
      "Eccentricity       13600 non-null float64\n",
      "ConvexArea         13600 non-null int64\n",
      "EquivDiameter      13600 non-null float64\n",
      "Extent             13600 non-null float64\n",
      "Solidity           13600 non-null float64\n",
      "roundness          13600 non-null float64\n",
      "Compactness        13600 non-null float64\n",
      "ShapeFactor1       13600 non-null float64\n",
      "ShapeFactor2       13600 non-null float64\n",
      "ShapeFactor3       13600 non-null float64\n",
      "ShapeFactor4       13600 non-null float64\n",
      "Class              13600 non-null object\n",
      "dtypes: float64(14), int64(2), object(1)\n",
      "memory usage: 1.8+ MB\n"
     ]
    }
   ],
   "source": [
    "df.info()"
   ]
  },
  {
   "cell_type": "code",
   "execution_count": 61,
   "metadata": {},
   "outputs": [
    {
     "data": {
      "text/html": [
       "<div>\n",
       "<style scoped>\n",
       "    .dataframe tbody tr th:only-of-type {\n",
       "        vertical-align: middle;\n",
       "    }\n",
       "\n",
       "    .dataframe tbody tr th {\n",
       "        vertical-align: top;\n",
       "    }\n",
       "\n",
       "    .dataframe thead th {\n",
       "        text-align: right;\n",
       "    }\n",
       "</style>\n",
       "<table border=\"1\" class=\"dataframe\">\n",
       "  <thead>\n",
       "    <tr style=\"text-align: right;\">\n",
       "      <th></th>\n",
       "      <th>Area</th>\n",
       "      <th>Perimeter</th>\n",
       "      <th>MajorAxisLength</th>\n",
       "      <th>MinorAxisLength</th>\n",
       "      <th>AspectRation</th>\n",
       "      <th>Eccentricity</th>\n",
       "      <th>ConvexArea</th>\n",
       "      <th>EquivDiameter</th>\n",
       "      <th>Extent</th>\n",
       "      <th>Solidity</th>\n",
       "      <th>roundness</th>\n",
       "      <th>Compactness</th>\n",
       "      <th>ShapeFactor1</th>\n",
       "      <th>ShapeFactor2</th>\n",
       "      <th>ShapeFactor3</th>\n",
       "      <th>ShapeFactor4</th>\n",
       "    </tr>\n",
       "  </thead>\n",
       "  <tbody>\n",
       "    <tr>\n",
       "      <th>count</th>\n",
       "      <td>13600.000000</td>\n",
       "      <td>13600.000000</td>\n",
       "      <td>13600.000000</td>\n",
       "      <td>13600.000000</td>\n",
       "      <td>13600.000000</td>\n",
       "      <td>13600.000000</td>\n",
       "      <td>13600.00000</td>\n",
       "      <td>13600.000000</td>\n",
       "      <td>13600.000000</td>\n",
       "      <td>13600.000000</td>\n",
       "      <td>13600.000000</td>\n",
       "      <td>13600.000000</td>\n",
       "      <td>13600.000000</td>\n",
       "      <td>13600.000000</td>\n",
       "      <td>13600.000000</td>\n",
       "      <td>13600.000000</td>\n",
       "    </tr>\n",
       "    <tr>\n",
       "      <th>mean</th>\n",
       "      <td>53042.775441</td>\n",
       "      <td>855.271505</td>\n",
       "      <td>320.145183</td>\n",
       "      <td>202.260171</td>\n",
       "      <td>1.583347</td>\n",
       "      <td>0.750934</td>\n",
       "      <td>53762.69875</td>\n",
       "      <td>253.058832</td>\n",
       "      <td>0.749717</td>\n",
       "      <td>0.987142</td>\n",
       "      <td>0.873267</td>\n",
       "      <td>0.799837</td>\n",
       "      <td>0.006564</td>\n",
       "      <td>0.001716</td>\n",
       "      <td>0.643547</td>\n",
       "      <td>0.995062</td>\n",
       "    </tr>\n",
       "    <tr>\n",
       "      <th>std</th>\n",
       "      <td>29300.925517</td>\n",
       "      <td>214.172977</td>\n",
       "      <td>85.655722</td>\n",
       "      <td>44.939042</td>\n",
       "      <td>0.246696</td>\n",
       "      <td>0.091988</td>\n",
       "      <td>29751.71318</td>\n",
       "      <td>59.140884</td>\n",
       "      <td>0.049095</td>\n",
       "      <td>0.004661</td>\n",
       "      <td>0.059524</td>\n",
       "      <td>0.061712</td>\n",
       "      <td>0.001128</td>\n",
       "      <td>0.000596</td>\n",
       "      <td>0.098991</td>\n",
       "      <td>0.004367</td>\n",
       "    </tr>\n",
       "    <tr>\n",
       "      <th>min</th>\n",
       "      <td>20420.000000</td>\n",
       "      <td>524.736000</td>\n",
       "      <td>183.601165</td>\n",
       "      <td>122.512653</td>\n",
       "      <td>1.024868</td>\n",
       "      <td>0.218951</td>\n",
       "      <td>20684.00000</td>\n",
       "      <td>161.243764</td>\n",
       "      <td>0.555315</td>\n",
       "      <td>0.919246</td>\n",
       "      <td>0.489618</td>\n",
       "      <td>0.640577</td>\n",
       "      <td>0.002778</td>\n",
       "      <td>0.000564</td>\n",
       "      <td>0.410339</td>\n",
       "      <td>0.947687</td>\n",
       "    </tr>\n",
       "    <tr>\n",
       "      <th>25%</th>\n",
       "      <td>36342.250000</td>\n",
       "      <td>703.566250</td>\n",
       "      <td>253.316345</td>\n",
       "      <td>175.854640</td>\n",
       "      <td>1.432360</td>\n",
       "      <td>0.715953</td>\n",
       "      <td>36720.00000</td>\n",
       "      <td>215.110181</td>\n",
       "      <td>0.718631</td>\n",
       "      <td>0.985670</td>\n",
       "      <td>0.832048</td>\n",
       "      <td>0.762429</td>\n",
       "      <td>0.005901</td>\n",
       "      <td>0.001153</td>\n",
       "      <td>0.581299</td>\n",
       "      <td>0.993703</td>\n",
       "    </tr>\n",
       "    <tr>\n",
       "      <th>50%</th>\n",
       "      <td>44659.500000</td>\n",
       "      <td>794.965500</td>\n",
       "      <td>296.903900</td>\n",
       "      <td>192.443880</td>\n",
       "      <td>1.551214</td>\n",
       "      <td>0.764472</td>\n",
       "      <td>45201.50000</td>\n",
       "      <td>238.458050</td>\n",
       "      <td>0.759808</td>\n",
       "      <td>0.988283</td>\n",
       "      <td>0.883132</td>\n",
       "      <td>0.801225</td>\n",
       "      <td>0.006645</td>\n",
       "      <td>0.001693</td>\n",
       "      <td>0.641961</td>\n",
       "      <td>0.996384</td>\n",
       "    </tr>\n",
       "    <tr>\n",
       "      <th>75%</th>\n",
       "      <td>61329.500000</td>\n",
       "      <td>977.117750</td>\n",
       "      <td>376.501006</td>\n",
       "      <td>217.019211</td>\n",
       "      <td>1.707366</td>\n",
       "      <td>0.810530</td>\n",
       "      <td>62281.25000</td>\n",
       "      <td>279.440771</td>\n",
       "      <td>0.786846</td>\n",
       "      <td>0.990013</td>\n",
       "      <td>0.916862</td>\n",
       "      <td>0.834237</td>\n",
       "      <td>0.007271</td>\n",
       "      <td>0.002170</td>\n",
       "      <td>0.695951</td>\n",
       "      <td>0.997882</td>\n",
       "    </tr>\n",
       "    <tr>\n",
       "      <th>max</th>\n",
       "      <td>254616.000000</td>\n",
       "      <td>1985.370000</td>\n",
       "      <td>738.860153</td>\n",
       "      <td>460.198497</td>\n",
       "      <td>2.430306</td>\n",
       "      <td>0.911423</td>\n",
       "      <td>263261.00000</td>\n",
       "      <td>569.374358</td>\n",
       "      <td>0.866195</td>\n",
       "      <td>0.994677</td>\n",
       "      <td>0.990685</td>\n",
       "      <td>0.987303</td>\n",
       "      <td>0.010451</td>\n",
       "      <td>0.003665</td>\n",
       "      <td>0.974767</td>\n",
       "      <td>0.999733</td>\n",
       "    </tr>\n",
       "  </tbody>\n",
       "</table>\n",
       "</div>"
      ],
      "text/plain": [
       "                Area     Perimeter  MajorAxisLength  MinorAxisLength  \\\n",
       "count   13600.000000  13600.000000     13600.000000     13600.000000   \n",
       "mean    53042.775441    855.271505       320.145183       202.260171   \n",
       "std     29300.925517    214.172977        85.655722        44.939042   \n",
       "min     20420.000000    524.736000       183.601165       122.512653   \n",
       "25%     36342.250000    703.566250       253.316345       175.854640   \n",
       "50%     44659.500000    794.965500       296.903900       192.443880   \n",
       "75%     61329.500000    977.117750       376.501006       217.019211   \n",
       "max    254616.000000   1985.370000       738.860153       460.198497   \n",
       "\n",
       "       AspectRation  Eccentricity    ConvexArea  EquivDiameter        Extent  \\\n",
       "count  13600.000000  13600.000000   13600.00000   13600.000000  13600.000000   \n",
       "mean       1.583347      0.750934   53762.69875     253.058832      0.749717   \n",
       "std        0.246696      0.091988   29751.71318      59.140884      0.049095   \n",
       "min        1.024868      0.218951   20684.00000     161.243764      0.555315   \n",
       "25%        1.432360      0.715953   36720.00000     215.110181      0.718631   \n",
       "50%        1.551214      0.764472   45201.50000     238.458050      0.759808   \n",
       "75%        1.707366      0.810530   62281.25000     279.440771      0.786846   \n",
       "max        2.430306      0.911423  263261.00000     569.374358      0.866195   \n",
       "\n",
       "           Solidity     roundness   Compactness  ShapeFactor1  ShapeFactor2  \\\n",
       "count  13600.000000  13600.000000  13600.000000  13600.000000  13600.000000   \n",
       "mean       0.987142      0.873267      0.799837      0.006564      0.001716   \n",
       "std        0.004661      0.059524      0.061712      0.001128      0.000596   \n",
       "min        0.919246      0.489618      0.640577      0.002778      0.000564   \n",
       "25%        0.985670      0.832048      0.762429      0.005901      0.001153   \n",
       "50%        0.988283      0.883132      0.801225      0.006645      0.001693   \n",
       "75%        0.990013      0.916862      0.834237      0.007271      0.002170   \n",
       "max        0.994677      0.990685      0.987303      0.010451      0.003665   \n",
       "\n",
       "       ShapeFactor3  ShapeFactor4  \n",
       "count  13600.000000  13600.000000  \n",
       "mean       0.643547      0.995062  \n",
       "std        0.098991      0.004367  \n",
       "min        0.410339      0.947687  \n",
       "25%        0.581299      0.993703  \n",
       "50%        0.641961      0.996384  \n",
       "75%        0.695951      0.997882  \n",
       "max        0.974767      0.999733  "
      ]
     },
     "execution_count": 61,
     "metadata": {},
     "output_type": "execute_result"
    }
   ],
   "source": [
    "df.describe()"
   ]
  },
  {
   "cell_type": "markdown",
   "metadata": {},
   "source": [
    "There is no missing values in the dataset"
   ]
  },
  {
   "cell_type": "markdown",
   "metadata": {},
   "source": [
    "# Standardize the data"
   ]
  },
  {
   "cell_type": "code",
   "execution_count": 44,
   "metadata": {},
   "outputs": [],
   "source": [
    "X=df.drop(['Class'], axis =1)\n",
    "y=df['Class']\n",
    "\n",
    "#standardize the features\n",
    "scaler = StandardScaler()\n",
    "data_scaled = scaler.fit_transform(X)\n",
    "\n"
   ]
  },
  {
   "cell_type": "markdown",
   "metadata": {},
   "source": [
    "# Train Test Split on Standardised data"
   ]
  },
  {
   "cell_type": "code",
   "execution_count": 45,
   "metadata": {},
   "outputs": [],
   "source": [
    "X_train, X_test, y_train, y_test = train_test_split(data_scaled,y,test_size=0.3,random_state=23)"
   ]
  },
  {
   "cell_type": "code",
   "execution_count": null,
   "metadata": {},
   "outputs": [],
   "source": []
  },
  {
   "cell_type": "markdown",
   "metadata": {},
   "source": [
    "# Model Building"
   ]
  },
  {
   "cell_type": "code",
   "execution_count": 46,
   "metadata": {},
   "outputs": [],
   "source": [
    "KNN= KNeighborsClassifier(n_neighbors=7)\n",
    "\n",
    "kf = KFold(n_splits=10, shuffle=True, random_state=4)\n",
    "\n",
    "clf = cross_validate(KNN, X_train, y_train, scoring=\"accuracy\", return_estimator=True, cv=kf)"
   ]
  },
  {
   "cell_type": "code",
   "execution_count": 47,
   "metadata": {},
   "outputs": [],
   "source": [
    "score1 =clf[\"test_score\"].mean()"
   ]
  },
  {
   "cell_type": "code",
   "execution_count": 48,
   "metadata": {},
   "outputs": [
    {
     "name": "stdout",
     "output_type": "stream",
     "text": [
      "mean score 0.920378151260504 +_ 0.007074562285917142\n"
     ]
    }
   ],
   "source": [
    "print(\"mean score\", np.mean(clf[\"test_score\"]),\"+_\", np.std(clf[\"test_score\"]))"
   ]
  },
  {
   "cell_type": "markdown",
   "metadata": {},
   "source": [
    "# Train Test Split on without Standardising the data"
   ]
  },
  {
   "cell_type": "code",
   "execution_count": 56,
   "metadata": {},
   "outputs": [],
   "source": [
    "X_train_, X_test_, y_train_, y_test_ = train_test_split(X,y,test_size=0.3,random_state=23)"
   ]
  },
  {
   "cell_type": "code",
   "execution_count": 57,
   "metadata": {},
   "outputs": [],
   "source": [
    "#Support Vector Machine\n",
    "\n",
    "svc = SVC(kernel = 'rbf')\n",
    "\n",
    "kf = KFold(n_splits=10, shuffle=True, random_state=4)\n",
    "clf1 = cross_validate(svc, X_train_, y_train_, scoring=\"accuracy\", return_estimator=True, cv=kf)\n",
    "\n",
    "#model1=svc.fit(X_train,y_train)\n",
    "#svc.predict(X_test)\n",
    "#score2 = svc.score(X_test, y_test)\n",
    "#print(\"Prediction Score of SVC model is:\",score2)"
   ]
  },
  {
   "cell_type": "code",
   "execution_count": 58,
   "metadata": {},
   "outputs": [
    {
     "data": {
      "text/plain": [
       "0.6385504201680672"
      ]
     },
     "execution_count": 58,
     "metadata": {},
     "output_type": "execute_result"
    }
   ],
   "source": [
    "score2 =clf1[\"test_score\"].mean()\n",
    "score2"
   ]
  },
  {
   "cell_type": "code",
   "execution_count": 59,
   "metadata": {},
   "outputs": [
    {
     "name": "stdout",
     "output_type": "stream",
     "text": [
      "Predictions scores are: [0.920378151260504, 0.6385504201680672] ['KNN', 'SVM']\n"
     ]
    }
   ],
   "source": [
    "scores_list = [score1,score2]\n",
    "list =['KNN','SVM']\n",
    "\n",
    "print(\"Predictions scores are:\", scores_list,list)"
   ]
  },
  {
   "cell_type": "code",
   "execution_count": 60,
   "metadata": {},
   "outputs": [
    {
     "data": {
      "image/png": "[encoded data removed]",
      "text/plain": [
       "<Figure size 432x216 with 1 Axes>"
      ]
     },
     "metadata": {
      "needs_background": "light"
     },
     "output_type": "display_data"
    }
   ],
   "source": [
    "plt.style.use('seaborn-colorblind')\n",
    "fig, ax =plt.subplots(figsize=(6,3))\n",
    "ax.plot(list,scores_list,marker=\"X\", linestyle=\":\", color=\"c\", label =\"Prediction Score\")\n",
    "ax.legend()\n",
    "plt.show()"
   ]
  },
  {
   "cell_type": "code",
   "execution_count": null,
   "metadata": {},
   "outputs": [],
   "source": []
  }
 ],
 "metadata": {
  "kernelspec": {
   "display_name": "Python 3",
   "language": "python",
   "name": "python3"
  },
  "language_info": {
   "codemirror_mode": {
    "name": "ipython",
    "version": 3
   },
   "file_extension": ".py",
   "mimetype": "text/x-python",
   "name": "python",
   "nbconvert_exporter": "python",
   "pygments_lexer": "ipython3",
   "version": "3.7.3"
  }
 },
 "nbformat": 4,
 "nbformat_minor": 2
}
